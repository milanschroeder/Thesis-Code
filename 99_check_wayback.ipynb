{
 "cells": [
  {
   "cell_type": "code",
   "execution_count": 1,
   "metadata": {},
   "outputs": [],
   "source": [
    "import waybackpy as wbp\n",
    "import savepagenow as spn\n",
    "import pandas as pd\n",
    "import mariadb\n",
    "import getpass\n",
    "import mysql.connector"
   ]
  },
  {
   "cell_type": "code",
   "execution_count": 2,
   "metadata": {},
   "outputs": [],
   "source": [
    "pw = getpass.getpass()\n",
    "con = mysql.connector.connect(\n",
    "# mariadb.connect(\n",
    "    user = \"scraper\",\n",
    "    password = pw,\n",
    "    host = \"127.0.0.1\",\n",
    "    port = 3336,\n",
    "    database = \"russian_media_database_rt\"\n",
    ")\n",
    "cursor = con.cursor()"
   ]
  },
  {
   "cell_type": "code",
   "execution_count": 6,
   "metadata": {},
   "outputs": [
    {
     "name": "stderr",
     "output_type": "stream",
     "text": [
      "/tmp/ipykernel_7997/3485014270.py:2: UserWarning: pandas only supports SQLAlchemy connectable (engine/connection) or database string URI or sqlite3 DBAPI2 connection. Other DBAPI2 objects are not tested. Please consider using SQLAlchemy.\n",
      "  versions = pd.read_sql_query(\"SELECT * FROM sitemap_versions\", con)\n"
     ]
    }
   ],
   "source": [
    "# get domains:\n",
    "versions = pd.read_sql_query(\"SELECT * FROM sitemap_versions\", con)\n",
    "versions = versions.link.str.slice(0,-12)"
   ]
  },
  {
   "cell_type": "code",
   "execution_count": 13,
   "metadata": {},
   "outputs": [
    {
     "name": "stderr",
     "output_type": "stream",
     "text": [
      "/tmp/ipykernel_7997/1435864534.py:1: UserWarning: pandas only supports SQLAlchemy connectable (engine/connection) or database string URI or sqlite3 DBAPI2 connection. Other DBAPI2 objects are not tested. Please consider using SQLAlchemy.\n",
      "  done = pd.read_sql_query(\"SELECT link FROM archived_pages\", con)\n"
     ]
    },
    {
     "data": {
      "text/plain": [
       "4029050"
      ]
     },
     "execution_count": 13,
     "metadata": {},
     "output_type": "execute_result"
    }
   ],
   "source": [
    "done = pd.read_sql_query(\"SELECT link FROM archived_pages\", con)\n",
    "len(done)"
   ]
  },
  {
   "cell_type": "code",
   "execution_count": 12,
   "metadata": {},
   "outputs": [],
   "source": [
    "# get all archived urls: \n",
    "\n",
    "from sqlalchemy import create_engine\n",
    "\n",
    "\n",
    "username = \"scraper\"\n",
    "host = \"127.0.0.1\"\n",
    "port = \"3336\"\n",
    "database = \"russian_media_database_rt\"\n",
    "\n",
    "# Create a connection string\n",
    "connection_str = f\"mysql+mysqlconnector://{username}:{pw}@{host}:{port}/{database}\"\n",
    "\n",
    "# Create an SQLAlchemy engine\n",
    "engine = create_engine(connection_str)\n",
    "\n"
   ]
  },
  {
   "cell_type": "code",
   "execution_count": 8,
   "metadata": {},
   "outputs": [],
   "source": [
    "versions = versions[4]"
   ]
  },
  {
   "cell_type": "code",
   "execution_count": 11,
   "metadata": {},
   "outputs": [
    {
     "data": {
      "text/plain": [
       "['https://russian.rt.com', 'https://lat.rt.rs']"
      ]
     },
     "execution_count": 11,
     "metadata": {},
     "output_type": "execute_result"
    }
   ],
   "source": [
    "versions = [versions, \"https://lat.rt.rs\"]\n",
    "versions"
   ]
  },
  {
   "cell_type": "code",
   "execution_count": 14,
   "metadata": {},
   "outputs": [
    {
     "name": "stdout",
     "output_type": "stream",
     "text": [
      "saved https://russian.rt.com 2215828\n",
      "saved https://lat.rt.rs 14732\n"
     ]
    }
   ],
   "source": [
    "\n",
    "for base_url in versions:\n",
    "\n",
    "    with engine.begin() as connection:\n",
    "\n",
    "        archive_urls = []\n",
    "\n",
    "        wayback_base = wbp.Url(base_url)\n",
    "        archive = wayback_base.known_urls(subdomain=True)\n",
    "\n",
    "        for url in archive:\n",
    "            # print(url)\n",
    "            # write to database:\n",
    "            archive_urls.append(url)\n",
    "\n",
    "        archive_urls = [url for url in archive_urls if url not in done]\n",
    "\n",
    "        archive_urls_df = pd.DataFrame(archive_urls, columns=['link'])\n",
    "\n",
    "        archive_urls_df.to_sql('archived_pages', con = connection, if_exists = 'append', index=False , chunksize = 1000)\n",
    "\n",
    "        connection.commit()\n",
    "    #    for url in archive_urls:\n",
    "    #        cursor.execute(\"INSERT INTO archived_pages (link) VALUES (%s)\", (url,))\n",
    "    #        con.commit()    \n",
    "\n",
    "        print(\"saved\",  base_url, len(archive_urls))Milan Schröder"
   ]
  },
  {
   "cell_type": "code",
   "execution_count": null,
   "metadata": {},
   "outputs": [
    {
     "data": {
      "text/plain": [
       "284506"
      ]
     },
     "execution_count": 10,
     "metadata": {},
     "output_type": "execute_result"
    }
   ],
   "source": [
    "archive_urls = pd.read_sql_query(\"SELECT * FROM archived_pages;\", con)\n",
    "len(archive_urls)"
   ]
  },
  {
   "cell_type": "code",
   "execution_count": null,
   "metadata": {},
   "outputs": [],
   "source": [
    "# create df:\n",
    "url_df = pd.DataFrame({'link' = archive_urls, 'archived': 1})  "
   ]
  },
  {
   "cell_type": "code",
   "execution_count": null,
   "metadata": {},
   "outputs": [
    {
     "name": "stderr",
     "output_type": "stream",
     "text": [
      "/tmp/ipykernel_321956/660494829.py:1: UserWarning: pandas only supports SQLAlchemy connectable (engine/connection) or database string URI or sqlite3 DBAPI2 connection. Other DBAPI2 objects are not tested. Please consider using SQLAlchemy.\n",
      "  url_list = pd.read_sql_query(\"SELECT link, doc_hash, available_online FROM page_data limit 10;\", con)\n"
     ]
    },
    {
     "data": {
      "text/html": [
       "<div>\n",
       "<style scoped>\n",
       "    .dataframe tbody tr th:only-of-type {\n",
       "        vertical-align: middle;\n",
       "    }\n",
       "\n",
       "    .dataframe tbody tr th {\n",
       "        vertical-align: top;\n",
       "    }\n",
       "\n",
       "    .dataframe thead th {\n",
       "        text-align: right;\n",
       "    }\n",
       "</style>\n",
       "<table border=\"1\" class=\"dataframe\">\n",
       "  <thead>\n",
       "    <tr style=\"text-align: right;\">\n",
       "      <th></th>\n",
       "      <th>link</th>\n",
       "      <th>doc_hash</th>\n",
       "      <th>available_online</th>\n",
       "    </tr>\n",
       "  </thead>\n",
       "  <tbody>\n",
       "    <tr>\n",
       "      <th>0</th>\n",
       "      <td>https://rt.rs/tag/APEK/</td>\n",
       "      <td>None</td>\n",
       "      <td>0</td>\n",
       "    </tr>\n",
       "    <tr>\n",
       "      <th>1</th>\n",
       "      <td>https://rt.rs/tag/AS-Monako/</td>\n",
       "      <td>None</td>\n",
       "      <td>0</td>\n",
       "    </tr>\n",
       "    <tr>\n",
       "      <th>2</th>\n",
       "      <td>https://rt.rs/tag/ATP-Tenis/</td>\n",
       "      <td>None</td>\n",
       "      <td>0</td>\n",
       "    </tr>\n",
       "    <tr>\n",
       "      <th>3</th>\n",
       "      <td>https://rt.rs/tag/Aba-liga-kosarka/</td>\n",
       "      <td>None</td>\n",
       "      <td>0</td>\n",
       "    </tr>\n",
       "    <tr>\n",
       "      <th>4</th>\n",
       "      <td>https://rt.rs/tag/Afrika/</td>\n",
       "      <td>None</td>\n",
       "      <td>0</td>\n",
       "    </tr>\n",
       "    <tr>\n",
       "      <th>5</th>\n",
       "      <td>https://rt.rs/tag/Ajaks/</td>\n",
       "      <td>None</td>\n",
       "      <td>0</td>\n",
       "    </tr>\n",
       "    <tr>\n",
       "      <th>6</th>\n",
       "      <td>https://rt.rs/tag/Ajatolah-Ali-Hamnej/</td>\n",
       "      <td>None</td>\n",
       "      <td>0</td>\n",
       "    </tr>\n",
       "    <tr>\n",
       "      <th>7</th>\n",
       "      <td>https://rt.rs/tag/Ajfon/</td>\n",
       "      <td>None</td>\n",
       "      <td>0</td>\n",
       "    </tr>\n",
       "    <tr>\n",
       "      <th>8</th>\n",
       "      <td>https://rt.rs/tag/Ajntraht-Frankfurt/</td>\n",
       "      <td>None</td>\n",
       "      <td>0</td>\n",
       "    </tr>\n",
       "    <tr>\n",
       "      <th>9</th>\n",
       "      <td>https://rt.rs/tag/Alba-Berlin/</td>\n",
       "      <td>None</td>\n",
       "      <td>0</td>\n",
       "    </tr>\n",
       "  </tbody>\n",
       "</table>\n",
       "</div>"
      ],
      "text/plain": [
       "                                     link doc_hash  available_online\n",
       "0                 https://rt.rs/tag/APEK/     None                 0\n",
       "1            https://rt.rs/tag/AS-Monako/     None                 0\n",
       "2            https://rt.rs/tag/ATP-Tenis/     None                 0\n",
       "3     https://rt.rs/tag/Aba-liga-kosarka/     None                 0\n",
       "4               https://rt.rs/tag/Afrika/     None                 0\n",
       "5                https://rt.rs/tag/Ajaks/     None                 0\n",
       "6  https://rt.rs/tag/Ajatolah-Ali-Hamnej/     None                 0\n",
       "7                https://rt.rs/tag/Ajfon/     None                 0\n",
       "8   https://rt.rs/tag/Ajntraht-Frankfurt/     None                 0\n",
       "9          https://rt.rs/tag/Alba-Berlin/     None                 0"
      ]
     },
     "execution_count": 11,
     "metadata": {},
     "output_type": "execute_result"
    }
   ],
   "source": [
    "# compare to self-scraped pages: \n",
    "\n",
    "url_list = pd.read_sql_query(\"SELECT link, doc_hash, available_online FROM page_data;\", con)\n",
    "url_list"
   ]
  },
  {
   "cell_type": "code",
   "execution_count": null,
   "metadata": {},
   "outputs": [],
   "source": [
    "# join archived and scraped pages:\n",
    "# how many of the scarped pages are archived?\n",
    "# how many of the archived pages are scraped?\n",
    "\n",
    "compare = pd.read_sql_query(\"\"\"\n",
    "    SELECT * link, available_online, doc_hash\n",
    "    FROM page_data\n",
    "    FULL JOIN archived_pages\n",
    "    ON page_data.link = archived_pages.link\n",
    "    ;\n",
    "\"\"\", con)"
   ]
  },
  {
   "cell_type": "code",
   "execution_count": null,
   "metadata": {},
   "outputs": [],
   "source": [
    "# write to database:\n",
    "for i in range(len(archive_urls)):\n",
    "    cursor.execute(\"INSERT INTO archived_pages (link) VALUES ('{archive_urls[i]}')\")"
   ]
  },
  {
   "cell_type": "code",
   "execution_count": null,
   "metadata": {},
   "outputs": [],
   "source": [
    "# loop over df:\n",
    "for index, row in url_df.iterrows():\n",
    "    cursor.execute(\"INSERT INTO archived_pages (link, archived) VALUES (?, ?)\", row.link, row.archived)"
   ]
  },
  {
   "cell_type": "code",
   "execution_count": 13,
   "metadata": {},
   "outputs": [],
   "source": [
    "# create table\n",
    "sql_command = \"\"\"CREATE TABLE IF NOT EXISTS archived_pages (\n",
    "\trowid BIGINT(20) NOT NULL AUTO_INCREMENT,\n",
    "    link TEXT,\n",
    "\tPRIMARY KEY (`rowid`) USING BTREE\n",
    "    );\n",
    "\"\"\"\n",
    "\n",
    "# execute the statement\n",
    "cursor.execute(sql_command)"
   ]
  },
  {
   "cell_type": "code",
   "execution_count": null,
   "metadata": {},
   "outputs": [],
   "source": [
    "# commit changes:\n",
    "con.commit()\n"
   ]
  },
  {
   "cell_type": "code",
   "execution_count": null,
   "metadata": {},
   "outputs": [],
   "source": [
    "# clsoe connection:\n",
    "con.close()"
   ]
  }
 ],
 "metadata": {
  "kernelspec": {
   "display_name": "Python 3",
   "language": "python",
   "name": "python3"
  },
  "language_info": {
   "codemirror_mode": {
    "name": "ipython",
    "version": 3
   },
   "file_extension": ".py",
   "mimetype": "text/x-python",
   "name": "python",
   "nbconvert_exporter": "python",
   "pygments_lexer": "ipython3",
   "version": "3.10.12"
  }
 },
 "nbformat": 4,
 "nbformat_minor": 2
}
